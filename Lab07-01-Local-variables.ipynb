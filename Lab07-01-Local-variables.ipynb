{
 "cells": [
  {
   "cell_type": "markdown",
   "metadata": {
    "dotnet_interactive": {
     "language": "csharp"
    },
    "polyglot_notebook": {
     "kernelName": "csharp"
    }
   },
   "source": [
    "# การใช้งานตัวแปร Local variables ในภาษา C#"
   ]
  },
  {
   "cell_type": "markdown",
   "metadata": {},
   "source": [
    "### 1. Local variable\n",
    "\n",
    "- ตัวแปรประเภทนี้ประกาศภายใน method, constructor หรือ block ของโค้ด\n",
    "- มีขอบเขตการใช้งาน (scope) เฉพาะภายใน method, constructor หรือ block ที่มันถูกประกาศเท่านั้น\n",
    "- ตัวอย่างเช่น ตัวแปรที่ใช้ภายใน loop for ก็จะเป็น local variable ที่มี scope เฉพาะภายใน loop นั้นๆ\n",
    "- โดยปกติ Local variable จะถูกเก็บไว้ที่ stack ของโปรแกรม ยกเว้นตัวแปรชนิด reference "
   ]
  },
  {
   "cell_type": "markdown",
   "metadata": {},
   "source": [
    "\n",
    "#### 1.1 การประกาศ Local variable \n",
    "ประกาศโดยใช้ keyword ระบุชนิดข้อมูล \n",
    "\n",
    " __รูปแบบ__\n",
    "\n",
    "<data_type> <variable_name>; \n",
    "\n",
    "หรือ\n",
    "\n",
    "<data_type> <variable_name> = <initial_value>;\n",
    "\n",
    "เมื่อ \n",
    "\n",
    "<data_type> คือชนิดของตัวแปร ควรเลือกใช้ data type ให้เหมาะสมกับข้อมูลที่ต้องการเก็บ เช่น int สำหรับจำนวนเต็ม, string สำหรับข้อความ, double สำหรับเลขทศนิยม\n",
    "\n",
    "<variable_name>  คือชื่อของตัวแปร ควรตั้งชื่อตัวแปรให้สื่อความหมาย และใช้ camelCase (ตัวอักษรตัวแรกเป็นตัวเล็ก และตัวอักษรตัวแรกของคำถัดไปเป็นตัวพิมพ์ใหญ่) เช่น firstName, totalAmount\n",
    "\n",
    "<initial_value> เป็นค่าเริ่มต้นของตัวแปรในตัวแปรชนิด value type ถ้าไม่กำหนดค่าเริ่มต้น จะมี error เกิดขึ้น"
   ]
  },
  {
   "cell_type": "markdown",
   "metadata": {},
   "source": [
    "\n",
    "#### 1.2 ขอบเขตของ Local variable \n",
    "\n",
    "Local variable ถูกจำกัดอยู่ภายใน block ของโค้ดที่ประกาศ เช่น ภายใน method, loop, if-else statement เมื่อโปรแกรมทำงานอยู่นอก block นั้น ตัวแปรจะถูกทำลายและหน่วยความจำจะถูกคืน\n"
   ]
  },
  {
   "cell_type": "markdown",
   "metadata": {},
   "source": [
    "\n",
    "#### 1.3 การเข้าถึง Local variable \n",
    "\n",
    "เข้าถึงได้เฉพาะภายใน block ที่ประกาศเท่านั้น\n"
   ]
  },
  {
   "cell_type": "markdown",
   "metadata": {},
   "source": [
    "#### 1.4 ตัวอย่างการใช้ Local variable \n",
    "\n",
    "ตัวอย่างต่อไปนี้ แสดงให้เห็นขอบเขตการใช้งาน Local variable ซึ่งจะมีทั้งที่ใช้ได้และใช้ไม่ได้ "
   ]
  },
  {
   "cell_type": "markdown",
   "metadata": {},
   "source": [
    "##### 1.4.1 การใช้ Local variable ที่ไม่มีการกำหนดค่าเริ่มต้น"
   ]
  },
  {
   "cell_type": "code",
   "execution_count": null,
   "metadata": {
    "dotnet_interactive": {
     "language": "csharp"
    },
    "polyglot_notebook": {
     "kernelName": "csharp"
    }
   },
   "outputs": [],
   "source": [
    "void print()\n",
    "{\n",
    "    int number;\n",
    "    Console.WriteLine(number);\n",
    "}\n",
    "print();"
   ]
  },
  {
   "cell_type": "markdown",
   "metadata": {},
   "source": [
    "__หมายเหตุ__\n",
    "\n",
    "เหตุผลที่ต้องสร้าง  void print() และเรียกใช้ด้วย print(); นั้น เนื่องจากใน polyglot จะมองตัวแปรต่างๆ เป็น global scope\n",
    "\n",
    "การบังคับให้เป็น local variable จึงต้องสร้างภายใต้เครื่องหมายปีกกา "
   ]
  },
  {
   "cell_type": "code",
   "execution_count": null,
   "metadata": {
    "dotnet_interactive": {
     "language": "csharp"
    },
    "polyglot_notebook": {
     "kernelName": "csharp"
    }
   },
   "outputs": [],
   "source": [
    "{\n",
    "    int a = 10;  // 1st 'a'\n",
    "    Console.WriteLine($\"Value of 1st  a is {a}\");\n",
    "}\n",
    "\n",
    "{\n",
    "    int a = 5;   // 2nd 'a'\n",
    "    Console.WriteLine($\"Value of 2nd a is {a}\");\n",
    "}\n",
    "\n",
    "{\n",
    "    Console.WriteLine($\"Value of a is {a}\");\n",
    "}"
   ]
  },
  {
   "cell_type": "markdown",
   "metadata": {},
   "source": [
    "##### 1.4.2 การใช้ Local variable ที่มีการกำหนดค่าเริ่มต้น"
   ]
  },
  {
   "cell_type": "markdown",
   "metadata": {},
   "source": [
    "##### 1.4.2 (A)"
   ]
  },
  {
   "cell_type": "code",
   "execution_count": null,
   "metadata": {
    "dotnet_interactive": {
     "language": "csharp"
    },
    "polyglot_notebook": {
     "kernelName": "csharp"
    }
   },
   "outputs": [],
   "source": [
    "void print()\n",
    "{\n",
    "    int number = 5;\n",
    "    Console.WriteLine(number);\n",
    "    \n",
    "}\n",
    "\n",
    "print();"
   ]
  },
  {
   "cell_type": "markdown",
   "metadata": {},
   "source": [
    "#####  Hash Code\n",
    "\n",
    "นอกจากชื่อตัวแปรแล้ว เรายังสามารถใช้ Hash code เพื่อระบุว่าเป็นตัวแปรเดียวกันหรือคนละตัวกัน  \n",
    "\n",
    "โดยที่ Hash code จะมีลักษณะเป็นค่าตัวเลขที่ถูกสร้างขึ้นมาเพื่อใช้แทนข้อมูลใดๆ (เช่น ข้อความ รูปภาพ ไฟล์) โดยมีจุดประสงค์เพื่อใช้ในการระบุข้อมูลนั้นๆ อย่างรวดเร็ว\n",
    "\n",
    "__ลักษณะสำคัญของ Hash Code__\n",
    "\n",
    "- Hash code ถูกสร้างขึ้นโดยใช้ algorithm ซึ่งจะคำนวณจากข้อมูลต้นฉบับ\n",
    "- ไม่ว่าข้อมูลต้นฉบับจะมีขนาดใหญ่แค่ไหน Hash code ที่ได้จะมีขนาดคงที่เสมอ\n",
    "- ในทางอุดมคติแล้ว ข้อมูลที่แตกต่างกันแม้เพียงเล็กน้อยก็ควรจะให้ hash code ที่แตกต่างกัน แต่ในความเป็นจริง อาจมีกรณีที่ข้อมูลต่างกันแต่ได้ hash code เดียวกัน ซึ่งเรียกว่า \"collision\""
   ]
  },
  {
   "cell_type": "markdown",
   "metadata": {},
   "source": [
    "##### 1.4.2 (B)"
   ]
  },
  {
   "cell_type": "code",
   "execution_count": null,
   "metadata": {
    "dotnet_interactive": {
     "language": "csharp"
    },
    "polyglot_notebook": {
     "kernelName": "csharp"
    }
   },
   "outputs": [
    {
     "name": "stdout",
     "output_type": "stream",
     "text": [
      "Hash code of '2147483647' is: 2147483647\n",
      "Hash code of '2147483647' is: 0X7FFFFFFF\n",
      "Hash code of 'Hello World' is: D9B01563\n",
      "Hash code of 'Hello World' is: 0XD9B01563\n"
     ]
    }
   ],
   "source": [
    "void print()\n",
    "{\n",
    "    // ในกรณีที่เป็นตัวเลข จะใช้ตัวเลขนั้นเป็น hash code \n",
    "    int myNumber = int.MaxValue;\n",
    "    int hashCode1 = myNumber.GetHashCode();\n",
    "    Console.WriteLine($\"Hash code of '{myNumber}' is: {hashCode1}\");     // Variable value\n",
    "    Console.WriteLine($\"Hash code of '{myNumber}' is: 0X{hashCode1:X}\"); // Hex\n",
    "\n",
    "\n",
    "    // ในกรณีที่เป็นตัวแปรชนิดอื่น เช่น string จะมีการคำนวณ hash code มาให้ตัวแปรละ 1 ค่า \n",
    "    string myString = \"Hello World\";\n",
    "    int hashCode2 = myString.GetHashCode();\n",
    "    Console.WriteLine($\"Hash code of '{myString}' is: {hashCode2:X}\"); \n",
    "    Console.WriteLine($\"Hash code of '{myString}' is: 0X{hashCode2:X}\"); \n",
    "}\n",
    "\n",
    "print();"
   ]
  },
  {
   "cell_type": "markdown",
   "metadata": {},
   "source": [
    "##### 1.4.2 (C)"
   ]
  },
  {
   "cell_type": "code",
   "execution_count": null,
   "metadata": {
    "dotnet_interactive": {
     "language": "csharp"
    },
    "polyglot_notebook": {
     "kernelName": "csharp"
    }
   },
   "outputs": [
    {
     "name": "stdout",
     "output_type": "stream",
     "text": [
      "Hash code of '10' is: 10\n",
      "Hash code of '5' is: 5\n"
     ]
    }
   ],
   "source": [
    "{\n",
    "    int a = 10;  // 1st 'a'\n",
    "    Console.WriteLine($\"Hash code of '{a}' is: {a}\");     // Variable value\n",
    "}\n",
    "\n",
    "{\n",
    "    int a = 5;   // 2nd 'a'\n",
    "    Console.WriteLine($\"Hash code of '{a}' is: {a}\");     // Variable value\n",
    "}"
   ]
  },
  {
   "cell_type": "markdown",
   "metadata": {},
   "source": [
    "##### 1.4.2 (D)"
   ]
  },
  {
   "cell_type": "code",
   "execution_count": null,
   "metadata": {
    "dotnet_interactive": {
     "language": "csharp"
    },
    "polyglot_notebook": {
     "kernelName": "csharp"
    }
   },
   "outputs": [
    {
     "name": "stdout",
     "output_type": "stream",
     "text": [
      "Hash code of 'Hello' is: DE7FBAC9\n",
      "Hash code of 'World' is: 48E0FDEC\n"
     ]
    }
   ],
   "source": [
    "{\n",
    "    string myString = \"Hello\";\n",
    "    int hashCode2 = myString.GetHashCode();\n",
    "    Console.WriteLine($\"Hash code of '{myString}' is: {hashCode2:X}\"); \n",
    "}\n",
    "{\n",
    "    string myString = \"World\";\n",
    "    int hashCode2 = myString.GetHashCode();\n",
    "    Console.WriteLine($\"Hash code of '{myString}' is: {hashCode2:X}\"); \n",
    "}"
   ]
  },
  {
   "cell_type": "markdown",
   "metadata": {},
   "source": [
    "##### 1.4.2 (E)"
   ]
  },
  {
   "cell_type": "code",
   "execution_count": null,
   "metadata": {
    "dotnet_interactive": {
     "language": "csharp"
    },
    "polyglot_notebook": {
     "kernelName": "csharp"
    }
   },
   "outputs": [
    {
     "name": "stdout",
     "output_type": "stream",
     "text": [
      "Hash code of '1.2345' is: 2D9D570E\n",
      "Hash code of '9876543210' is: 1286608616\n",
      "Hash code of '9876543210' is: 4CB016E8\n"
     ]
    }
   ],
   "source": [
    "{\n",
    "    double myDouble = 1.2345;\n",
    "    int hashCode = myDouble.GetHashCode();\n",
    "    Console.WriteLine($\"Hash code of '{myDouble}' is: {hashCode:X}\"); \n",
    "}\n",
    "{\n",
    "    long myLong = 9876543210;\n",
    "    int hashCode = myLong.GetHashCode();\n",
    "    Console.WriteLine($\"Hash code of '{myLong}' is: {hashCode}\");   // decimal format\n",
    "    Console.WriteLine($\"Hash code of '{myLong}' is: {hashCode:X}\"); // hexadecimal format\n",
    "\n",
    "}"
   ]
  },
  {
   "cell_type": "markdown",
   "metadata": {},
   "source": [
    "##### 1.4.2 (E)"
   ]
  },
  {
   "cell_type": "code",
   "execution_count": null,
   "metadata": {
    "dotnet_interactive": {
     "language": "csharp"
    },
    "polyglot_notebook": {
     "kernelName": "csharp"
    }
   },
   "outputs": [
    {
     "name": "stdout",
     "output_type": "stream",
     "text": [
      "Hash code of '5' is: 40140000\n",
      "Hash code of '5' is: 40140000\n",
      "Hash code of '5' is: 40140000\n"
     ]
    }
   ],
   "source": [
    "{\n",
    "    double A = 5;\n",
    "    double B = 5;\n",
    "    double C = 5;\n",
    "    int hashCodeA = A.GetHashCode();\n",
    "    int hashCodeB = B.GetHashCode();\n",
    "    int hashCodeC = C.GetHashCode();\n",
    "    Console.WriteLine($\"Hash code of '{A}' is: {hashCodeA:X}\"); \n",
    "    Console.WriteLine($\"Hash code of '{B}' is: {hashCodeB:X}\"); \n",
    "    Console.WriteLine($\"Hash code of '{C}' is: {hashCodeC:X}\"); \n",
    "}"
   ]
  },
  {
   "cell_type": "markdown",
   "metadata": {},
   "source": [
    "จากตัวอย่าง 1.4.2 (E)  ถึงแม้ว่าตัวแปร A, B, และ C จะเป็นคนละตัวแปรกัน แต่การที่ hash code ของพวกมันเหมือนกันนั้นเป็นเพราะว่า ตัวแปรเหล่านี้เก็บค่า double ที่มีค่าเท่ากัน\n",
    "\n",
    "__หลักการของ Hash Code__\n",
    "\n",
    "Hash code ถูกออกแบบมาเพื่อใช้ในการจัดเก็บและค้นหาข้อมูลอย่างมีประสิทธิภาพในโครงสร้างข้อมูลแบบ hash table โดยมีหลักการสำคัญดังนี้\n",
    "\n",
    "- วัตถุที่เท่ากันควรมี hash code เดียวกัน  ในเมื่อการเปรียบเทียบ A.Equals(B) ซึ่งอาศัย Hash Code เป็นจริง A.GetHashCode() ก็ควรจะเท่ากับ B.GetHashCode()\n",
    "- วัตถุที่ต่างกันอาจมี hash code เดียวกันได้ เนื่องจาก hash code เป็นแค่การแปลงข้อมูลให้เป็นตัวเลขจำนวนเต็ม ซึ่งมีจำนวนจำกัด จึงเป็นไปได้ที่วัตถุที่ต่างกันจะมี hash code ซ้ำกันได้ (เรียกว่า \"hash collision\")"
   ]
  },
  {
   "cell_type": "markdown",
   "metadata": {},
   "source": [
    "##### 1.4.2 (F) "
   ]
  },
  {
   "cell_type": "code",
   "execution_count": null,
   "metadata": {
    "dotnet_interactive": {
     "language": "csharp"
    },
    "polyglot_notebook": {
     "kernelName": "csharp"
    }
   },
   "outputs": [
    {
     "name": "stdout",
     "output_type": "stream",
     "text": [
      "'5 == 5' is  True\r\n"
     ]
    }
   ],
   "source": [
    "{\n",
    "    double A = 5;\n",
    "    double B = 5;\n",
    "    Console.WriteLine($\"'{A} == {B}' is  {A.Equals(B)}\"); // เปรียบเทียบว่า A == B โดยอาศัย Hash Code\n",
    "}"
   ]
  },
  {
   "cell_type": "markdown",
   "metadata": {},
   "source": [
    "จากตัวอย่าง สรุปได้ว่า Hash Code มีความสำคัญต่อการแยกแยะตัวแปร แต่ไม่ได้หมายความตัวแปรแต่ละตัวมี Hash Code ที่ไม่ซ้ำกับตัวแปรอื่น"
   ]
  },
  {
   "cell_type": "markdown",
   "metadata": {},
   "source": [
    "##### 1.4.3 การใช้ Local variable ขอบเขตระดับ method"
   ]
  },
  {
   "cell_type": "code",
   "execution_count": null,
   "metadata": {
    "dotnet_interactive": {
     "language": "csharp"
    },
    "polyglot_notebook": {
     "kernelName": "csharp"
    }
   },
   "outputs": [
    {
     "ename": "Error",
     "evalue": "(9,34): error CS0103: The name 'area' does not exist in the current context",
     "output_type": "error",
     "traceback": [
      "(9,34): error CS0103: The name 'area' does not exist in the current context"
     ]
    }
   ],
   "source": [
    "public void CalculateArea(int width, int height)\n",
    "{\n",
    "    int area = width * height; // local variable ภายใน method\n",
    "    Console.WriteLine(\"Area: \" + area);\n",
    "}\n",
    "\n",
    "public void PrintArea(int width, int height)\n",
    "{\n",
    "    Console.WriteLine(\"Area: \" + area); // ไม่สามารถเข้าถึง area ที่อยู่ใน method อื่นได้\n",
    "}"
   ]
  },
  {
   "cell_type": "markdown",
   "metadata": {},
   "source": [
    "##### 1.4.4 การใช้ Local variable ขอบเขตระดับ loop เช่น for loop"
   ]
  },
  {
   "cell_type": "code",
   "execution_count": null,
   "metadata": {
    "dotnet_interactive": {
     "language": "csharp"
    },
    "polyglot_notebook": {
     "kernelName": "csharp"
    }
   },
   "outputs": [
    {
     "ename": "Error",
     "evalue": "(7,19): error CS0103: The name 'j' does not exist in the current context",
     "output_type": "error",
     "traceback": [
      "(7,19): error CS0103: The name 'j' does not exist in the current context"
     ]
    }
   ],
   "source": [
    "for (int i = 0; i < 5; i++) \n",
    "{\n",
    "    int j = i * 2;  // j เป็น local variable ภายใน loop\n",
    "    Console.WriteLine(j); \n",
    "}\n",
    "\n",
    "Console.WriteLine(j); // ไม่สามารถเข้าถึง j ที่อยู่ใน block ของ for ได้"
   ]
  },
  {
   "cell_type": "markdown",
   "metadata": {},
   "source": [
    "##### 1.4.5 การใช้ Local variable ขอบเขตระดับ block เช่น  if-else"
   ]
  },
  {
   "cell_type": "code",
   "execution_count": null,
   "metadata": {
    "dotnet_interactive": {
     "language": "csharp"
    },
    "polyglot_notebook": {
     "kernelName": "csharp"
    }
   },
   "outputs": [
    {
     "ename": "Error",
     "evalue": "(13,23): error CS0103: The name 'message' does not exist in the current context",
     "output_type": "error",
     "traceback": [
      "(13,23): error CS0103: The name 'message' does not exist in the current context"
     ]
    }
   ],
   "source": [
    "public void CheckNumber(int number)\n",
    "{\n",
    "    if (number > 0)\n",
    "    {\n",
    "        string message = \"Number is positive\"; // local variable ภายใน if block\n",
    "        Console.WriteLine(message);\n",
    "    }\n",
    "    else\n",
    "    {\n",
    "        string message = \"Number is non-positive\"; // local variable ภายใน else block\n",
    "        Console.WriteLine(message);\n",
    "    }\n",
    "    Console.WriteLine(message);  // error: message ไม่ได้ถูกกำหนดไว้ใน scope นี้\n",
    "}"
   ]
  },
  {
   "cell_type": "markdown",
   "metadata": {},
   "source": [
    "##### 1.4.6 การใช้ Local variable ก่อนที่จะประกาศ"
   ]
  },
  {
   "cell_type": "code",
   "execution_count": null,
   "metadata": {
    "dotnet_interactive": {
     "language": "csharp"
    },
    "polyglot_notebook": {
     "kernelName": "csharp"
    }
   },
   "outputs": [
    {
     "ename": "Error",
     "evalue": "(3,23): error CS0841: Cannot use local variable 'number' before it is declared",
     "output_type": "error",
     "traceback": [
      "(3,23): error CS0841: Cannot use local variable 'number' before it is declared"
     ]
    }
   ],
   "source": [
    "void print()\n",
    "{\n",
    "    Console.WriteLine(number);  // เรียกใช้\n",
    "    int number = 5;             // ประกาศตัวแปร\n",
    "}\n",
    "\n",
    "print();"
   ]
  },
  {
   "cell_type": "markdown",
   "metadata": {},
   "source": [
    "##### 1.4.7  Local variable ทุกตัวต้องมีค่าเริ่มต้นก่อนใช้งาน"
   ]
  },
  {
   "cell_type": "code",
   "execution_count": null,
   "metadata": {
    "dotnet_interactive": {
     "language": "csharp"
    },
    "polyglot_notebook": {
     "kernelName": "csharp"
    }
   },
   "outputs": [
    {
     "ename": "Error",
     "evalue": "(6,23): error CS0165: Use of unassigned local variable 'number2'",
     "output_type": "error",
     "traceback": [
      "(6,23): error CS0165: Use of unassigned local variable 'number2'"
     ]
    }
   ],
   "source": [
    "void print()\n",
    "{\n",
    "    int number1 = 5;             // ประกาศตัวแปร\n",
    "    int number2;             // ประกาศตัวแปร\n",
    "    Console.WriteLine(number1);  // เรียกใช้\n",
    "    Console.WriteLine(number2);  // เรียกใช้\n",
    "}\n",
    "\n",
    "print();"
   ]
  },
  {
   "cell_type": "markdown",
   "metadata": {},
   "source": [
    "##### 1.4.8  การกำหนดค่าใหม่ให้กับตัวแปร จะทับค่าเดิม และไม่สามารถกู้คืนได้"
   ]
  },
  {
   "cell_type": "markdown",
   "metadata": {},
   "source": [
    "##### 1.4.8 (A)"
   ]
  },
  {
   "cell_type": "code",
   "execution_count": null,
   "metadata": {
    "dotnet_interactive": {
     "language": "csharp"
    },
    "polyglot_notebook": {
     "kernelName": "csharp"
    }
   },
   "outputs": [
    {
     "name": "stdout",
     "output_type": "stream",
     "text": [
      "myNumber = 5\n",
      "myNumber = 10\n"
     ]
    }
   ],
   "source": [
    "void print()\n",
    "{\n",
    "    int myNumber = 5;             \n",
    "    Console.WriteLine($\"myNumber = {myNumber}\");\n",
    "    myNumber = 10;  \n",
    "    Console.WriteLine($\"myNumber = {myNumber}\");  \n",
    "}\n",
    "\n",
    "print();"
   ]
  },
  {
   "cell_type": "markdown",
   "metadata": {},
   "source": [
    "##### 1.4.8 (B)"
   ]
  },
  {
   "cell_type": "code",
   "execution_count": null,
   "metadata": {
    "dotnet_interactive": {
     "language": "csharp"
    },
    "polyglot_notebook": {
     "kernelName": "csharp"
    }
   },
   "outputs": [
    {
     "name": "stdout",
     "output_type": "stream",
     "text": [
      "myMessage = World\r\n"
     ]
    }
   ],
   "source": [
    "void print()\n",
    "{\n",
    "    string myMessage = \"Hello\"; \n",
    "    myMessage = \"World\";            \n",
    "    Console.WriteLine($\"myMessage = {myMessage}\");\n",
    "}\n",
    "\n",
    "print();"
   ]
  },
  {
   "cell_type": "markdown",
   "metadata": {},
   "source": [
    "### 1.5 คำถาม"
   ]
  },
  {
   "cell_type": "markdown",
   "metadata": {},
   "source": [
    "##### 1.5.1 โค้ดต่อไปนี้มีข้อผิดพลาดหรือไม่? ถ้ามี error เกิดขึ้นที่บรรทัดใด  \n",
    "\n",
    "```CSharp\n",
    "void CheckNumber(int number) \n",
    "{ \n",
    "    if (number > 0) \n",
    "    { \n",
    "        bool isPositive = true; \n",
    "    } \n",
    "    Console.WriteLine(isPositive); \n",
    "}  \n",
    "```"
   ]
  },
  {
   "cell_type": "code",
   "execution_count": null,
   "metadata": {},
   "outputs": [
    {
     "ename": "Error",
     "evalue": "(7,23): error CS0103: The name 'isPositive' does not exist in the current context",
     "output_type": "error",
     "traceback": [
      "(7,23): error CS0103: The name 'isPositive' does not exist in the current context"
     ]
    }
   ],
   "source": [
    "void CheckNumber(int number) \n",
    "{ \n",
    "    if (number > 0) \n",
    "    { \n",
    "        bool isPositive = true; \n",
    "    } \n",
    "    Console.WriteLine(isPositive); \n",
    "}  "
   ]
  },
  {
   "cell_type": "markdown",
   "metadata": {},
   "source": [
    "error เกิดขึ้นบรรทัดที่ 7"
   ]
  },
  {
   "cell_type": "markdown",
   "metadata": {},
   "source": [
    " 1.5.2 ผลลัพธ์ของโค้ดต่อไปนี้คืออะไร  \n",
    "```csharp\n",
    "int number = 10; \n",
    "ChangeValue(ref number); \n",
    "Console.WriteLine(number); \n",
    "void ChangeValue(ref int num) \n",
    "{ \n",
    "    num = 20; \n",
    "}\n",
    "```"
   ]
  },
  {
   "cell_type": "code",
   "execution_count": null,
   "metadata": {},
   "outputs": [
    {
     "name": "stdout",
     "output_type": "stream",
     "text": [
      "20\r\n"
     ]
    }
   ],
   "source": [
    "int number = 10; \n",
    "ChangeValue(ref number); \n",
    "Console.WriteLine(number); \n",
    "void ChangeValue(ref int num) \n",
    "{ \n",
    "    num = 20; \n",
    "}"
   ]
  },
  {
   "cell_type": "markdown",
   "metadata": {},
   "source": [
    "ผลลัพธ์คือ 20"
   ]
  },
  {
   "cell_type": "markdown",
   "metadata": {},
   "source": []
  },
  {
   "cell_type": "markdown",
   "metadata": {},
   "source": [
    "##### 1.5.3 โค้ดต่อไปนี้มี output เป็นอย่างไร  \n",
    "```csharp\n",
    "for (int i = 0; i < 3; i++) \n",
    "{ \n",
    "    Console.WriteLine(i); \n",
    "} \n",
    "Console.WriteLine(i);  \n",
    "```"
   ]
  },
  {
   "cell_type": "code",
   "execution_count": null,
   "metadata": {},
   "outputs": [
    {
     "ename": "Error",
     "evalue": "(5,19): error CS0103: The name 'i' does not exist in the current context",
     "output_type": "error",
     "traceback": [
      "(5,19): error CS0103: The name 'i' does not exist in the current context"
     ]
    }
   ],
   "source": [
    "for (int i = 0; i < 3; i++) \n",
    "{ \n",
    "    Console.WriteLine(i); \n",
    "} \n",
    "Console.WriteLine(i);"
   ]
  },
  {
   "cell_type": "markdown",
   "metadata": {},
   "source": [
    "error บรรทัดที่5"
   ]
  },
  {
   "cell_type": "markdown",
   "metadata": {},
   "source": [
    "##### 1.5.4 โค้ดต่อไปนี้มี output เป็นอย่างไร  \n",
    "```csharp\n",
    "{ \n",
    "    int x = 10; \n",
    "    { \n",
    "        int x = 20; \n",
    "        Console.WriteLine(x); \n",
    "    } \n",
    "    Console.WriteLine(x); \n",
    "} \n",
    "```"
   ]
  },
  {
   "cell_type": "code",
   "execution_count": null,
   "metadata": {},
   "outputs": [
    {
     "ename": "Error",
     "evalue": "(4,13): error CS0136: A local or parameter named 'x' cannot be declared in this scope because that name is used in an enclosing local scope to define a local or parameter",
     "output_type": "error",
     "traceback": [
      "(4,13): error CS0136: A local or parameter named 'x' cannot be declared in this scope because that name is used in an enclosing local scope to define a local or parameter"
     ]
    }
   ],
   "source": [
    "{ \n",
    "    int x = 10; \n",
    "    { \n",
    "        int x = 20; \n",
    "        Console.WriteLine(x); \n",
    "    } \n",
    "    Console.WriteLine(x); \n",
    "} "
   ]
  },
  {
   "cell_type": "markdown",
   "metadata": {},
   "source": [
    "error บรรทัดที่ 4"
   ]
  },
  {
   "cell_type": "markdown",
   "metadata": {},
   "source": [
    "#### 1.5.5   โค้ดต่อไปนี้มีข้อผิดพลาดหรือไม่? ถ้ามี error เกิดขึ้นที่บรรทัดใด  \n",
    "```csharp\n",
    "void CheckNumber(int number) \n",
    "{ \n",
    "    if (number > 0) \n",
    "    { \n",
    "        bool isPositive = true; \n",
    "    } \n",
    "    Console.WriteLine(isPositive); \n",
    "}  \n",
    "```"
   ]
  },
  {
   "cell_type": "code",
   "execution_count": null,
   "metadata": {},
   "outputs": [
    {
     "ename": "Error",
     "evalue": "(7,23): error CS0103: The name 'isPositive' does not exist in the current context",
     "output_type": "error",
     "traceback": [
      "(7,23): error CS0103: The name 'isPositive' does not exist in the current context"
     ]
    }
   ],
   "source": [
    "void CheckNumber(int number) \n",
    "{ \n",
    "    if (number > 0) \n",
    "    { \n",
    "        bool isPositive = true; \n",
    "    } \n",
    "    Console.WriteLine(isPositive); \n",
    "}  "
   ]
  },
  {
   "cell_type": "markdown",
   "metadata": {},
   "source": [
    "error บรรทัดที่ 7 "
   ]
  }
 ],
 "metadata": {
  "kernelspec": {
   "display_name": ".NET (C#)",
   "language": "C#",
   "name": ".net-csharp"
  },
  "polyglot_notebook": {
   "kernelInfo": {
    "defaultKernelName": "csharp",
    "items": [
     {
      "aliases": [],
      "languageName": "csharp",
      "name": "csharp"
     }
    ]
   }
  }
 },
 "nbformat": 4,
 "nbformat_minor": 2
}
