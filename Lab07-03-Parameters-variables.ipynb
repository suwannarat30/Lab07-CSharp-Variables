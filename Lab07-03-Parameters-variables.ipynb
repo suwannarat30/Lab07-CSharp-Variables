{
 "cells": [
  {
   "cell_type": "markdown",
   "metadata": {
    "dotnet_interactive": {
     "language": "csharp"
    },
    "polyglot_notebook": {
     "kernelName": "csharp"
    }
   },
   "source": [
    "# การใช้งานตัวแปรในภาษา C#"
   ]
  },
  {
   "cell_type": "markdown",
   "metadata": {},
   "source": [
    "## 3. Parameter\n",
    "\n",
    "- เป็นตัวแปรที่ใช้รับค่าที่ส่งเข้ามาให้ method\n",
    "- มี scope เฉพาะภายใน method ที่ถูกกำหนด\n",
    "- ใช้สำหรับการส่งผ่านข้อมูลจากภายนอกเข้ามาให้ method ประมวลผล\n",
    "\n",
    "ใน C# มี parameter อยู่ 4 ประเภทหลักๆ  ได้แก่\n",
    "\n",
    "* _Value parameter_  เป็น parameter แบบทั่วไป ค่าที่ส่งเข้าไปจะถูกคัดลอก การเปลี่ยนแปลงค่าภายใน method จะไม่ส่งผลต่อค่า argument เดิม\n",
    "* _Ref parameter_  ใช้ keyword `ref` การเปลี่ยนแปลงค่า parameter ภายใน method จะส่งผลต่อค่า argument เดิม\n",
    "* _Out parameter_  ใช้ keyword `out` คล้ายกับ ref parameter แต่บังคับให้ method กำหนดค่าให้กับ parameter ก่อน return\n",
    "* _Params parameter_  ใช้ keyword `params` อนุญาตให้ส่ง argument จำนวนเท่าใดก็ได้เข้าไปใน method"
   ]
  },
  {
   "cell_type": "markdown",
   "metadata": {},
   "source": [
    "### 3.1 การประกาศ parameter\n",
    "กำหนดไว้ในวงเล็บหลังชื่อ method\n",
    "\n",
    "__รูปแบบ__\n",
    "\n",
    "<ชนิดข้อมูล> <ชื่อพารามิเตอร์>\n",
    "\n",
    "- ควรตั้งชื่อให้สื่อความหมายและสอดคล้องกับการใช้งาน\n",
    "- ใช้ camelCase (ตัวอักษรตัวแรกเป็นตัวเล็ก และตัวอักษรตัวแรกของคำถัดไปเป็นตัวใหญ่) เช่น firstName, lastName"
   ]
  },
  {
   "cell_type": "markdown",
   "metadata": {},
   "source": [
    "ตัวอย่าง"
   ]
  },
  {
   "cell_type": "code",
   "execution_count": null,
   "metadata": {},
   "outputs": [],
   "source": [
    "public int CalculateArea(int width, int height) \n",
    "{\n",
    "  int area = width * height;\n",
    "  return area;\n",
    "}"
   ]
  },
  {
   "cell_type": "markdown",
   "metadata": {},
   "source": [
    "- `width` และ `height` เป็น parameter ของ method CalculateArea\n",
    "- _int_ คือชนิดข้อมูลของ parameter ซึ่งเป็นจำนวนเต็ม\n",
    "- เมื่อเรียกใช้ method CalculateArea จะต้องส่งค่า argument ที่ตรงกับชนิดข้อมูลของ parameter เช่น CalculateArea(10, 5)"
   ]
  },
  {
   "cell_type": "code",
   "execution_count": null,
   "metadata": {},
   "outputs": [],
   "source": [
    "public int CalculateArea(int width, int height) \n",
    "{\n",
    "  int area = width * height;\n",
    "  return area;\n",
    "}\n",
    "int a = CalculateArea(10, 5);\n",
    "Console.WriteLine(a);"
   ]
  },
  {
   "cell_type": "markdown",
   "metadata": {},
   "source": [
    "\n",
    "### 3.2  ขอบเขตของ parameter\n",
    "มีผลเฉพาะภายใน method ที่ประกาศ\n"
   ]
  },
  {
   "cell_type": "markdown",
   "metadata": {},
   "source": [
    "\n",
    "### 3.3 การใช้งาน parameter\n",
    "ใช้รับค่าที่ส่งเข้ามาจากภายนอกเมื่อเรียกใช้ method"
   ]
  },
  {
   "cell_type": "markdown",
   "metadata": {},
   "source": [
    "### 3.4 ตัวอย่างการใช้งาน parameter"
   ]
  },
  {
   "cell_type": "markdown",
   "metadata": {},
   "source": [
    "##### 3.4.1  Value parameter\n",
    "\n",
    "เป็น parameter แบบพื้นฐานที่สุด เมื่อส่งค่าแบบ value parameter จะมีการคัดลอกค่าของ argument ไปยัง parameter ภายใน method การเปลี่ยนแปลงค่าของ parameter ภายใน method จะไม่ส่งผลต่อ argument เดิม"
   ]
  },
  {
   "cell_type": "code",
   "execution_count": null,
   "metadata": {},
   "outputs": [],
   "source": [
    "public  int CalculateArea(int width, int height) \n",
    "{\n",
    "    // width และ height คือ parameter ที่รับค่าความกว้างและความสูง\n",
    "    int area = width * height;\n",
    "    return area; \n",
    "}\n",
    "\n",
    "public void runExample()\n",
    "{\n",
    "    int width = 5;\n",
    "    int height = 10;\n",
    "\n",
    "\n",
    "    Console.WriteLine(\"Before CalculateArea\"); // Output: x: 5\n",
    "    Console.WriteLine(\"width: \" + width); // Output: x: 5\n",
    "    Console.WriteLine(\"height: \" + height); // Output: y: 10\n",
    "    // เรียกใช้ method CalculateArea โดยส่งค่า width และ height เป็น argument\n",
    "    int area = CalculateArea(width, height); \n",
    "\n",
    "    Console.WriteLine(\"Return value from CalculateArea: \" + area); // Output: Area of rectangle: 50\n",
    "\n",
    "    Console.WriteLine(\"After CalculateArea\"); // Output: x: 5\n",
    "    Console.WriteLine(\"width: \" + width); // Output: x: 5\n",
    "    Console.WriteLine(\"height: \" + height); // Output: y: 10\n",
    "}\n",
    "\n",
    "runExample();"
   ]
  },
  {
   "cell_type": "markdown",
   "metadata": {},
   "source": [
    "จากตัวอย่าง\n",
    "- เมธอด __runExample()__ มี local variable จำนวน 2 ตัวคือ     `int width = 5;` และ    `int height = 10;`\n",
    "- เมธอด __runExample()__ เรียกใช้  `public int CalculateArea(int width, int height)` โดยการส่ง local variable ให้ไปในฐานะ parameter\n",
    "- เมธอด __CalculateArea(int width, int height)__ ทำงานแล้วส่งค่ากลับมาให้ผู้เรียกที่บรรทัด `return area;` \n",
    "- เมธอด __runExample()__ นำค่าที่ได้กลับมา แสดงออกทาง console\n",
    "- ค่าที่เก็บในตัวแปร width และ height จะไม่มีการเปลี่ยนแปลง\n"
   ]
  },
  {
   "cell_type": "markdown",
   "metadata": {},
   "source": [
    "##### 3.4.2 Ref parameters"
   ]
  },
  {
   "cell_type": "markdown",
   "metadata": {},
   "source": [
    "ในภาษา C# โดยปกติตัวแปรจะถูกส่งผ่านไปยัง method แบบ pass-by-value หมายความว่า method จะได้รับสำเนาของค่าตัวแปร ไม่ใช่ตัวแปรนั้นโดยตรง ดังนั้น การเปลี่ยนแปลงค่าของตัวแปรภายใน method จะไม่ส่งผลต่อค่าของตัวแปรต้นฉบับ\n",
    "\n",
    "แต่ ref keyword  ช่วยให้เราสามารถส่งตัวแปรแบบ pass-by-reference ได้  ซึ่งหมายความว่า method จะได้รับ reference (หรือ pointer) ไปยังตัวแปรเดิมโดยตรง  ดังนั้น การเปลี่ยนแปลงค่าของตัวแปรภายใน method จะส่งผลต่อค่าของตัวแปรเดิมด้วย\n",
    "\n",
    "__การใช้งานตัวแปร ref__\n",
    "\n",
    "1. ประกาศ parameter ใน method \n",
    "\n",
    "    เมื่อต้องการให้ method รับ parameter แบบ reference ให้ใช้ keyword  ref นำหน้าชนิดข้อมูลของ parameter เช่น ref int number\n",
    "\n",
    "2. ส่ง argument แบบ reference \n",
    "\n",
    "    เมื่อเรียกใช้ method ที่มี parameter แบบ reference ให้ใช้ keyword  ref นำหน้า argument ที่ส่งเข้าไปด้วย เช่น MyMethod(ref myVariable)"
   ]
  },
  {
   "cell_type": "markdown",
   "metadata": {},
   "source": [
    "##### 3.4.2.1 ตัวอย่างการสลับค่าตัวแปร"
   ]
  },
  {
   "cell_type": "code",
   "execution_count": null,
   "metadata": {},
   "outputs": [],
   "source": [
    "public  void Swap(ref int a, ref int b)\n",
    "{\n",
    "    int temp = a;\n",
    "    a = b;\n",
    "    b = temp;\n",
    "}\n",
    "\n",
    "public void runSWap()\n",
    "{\n",
    "    int x = 10;\n",
    "    int y = 5;\n",
    "\n",
    "    Console.WriteLine(\"Before swap\"); // Output: x: 5\n",
    "    Console.WriteLine(\"x: \" + x); // Output: x: 5\n",
    "    Console.WriteLine(\"y: \" + y); // Output: y: 10\n",
    "\n",
    "    Swap(ref x, ref y); // เรียกใช้ method Swap \n",
    "\n",
    "    Console.WriteLine(\"After swap\"); // Output: y: 10\n",
    "    Console.WriteLine(\"x: \" + x); // Output: x: 5\n",
    "    Console.WriteLine(\"y: \" + y); // Output: y: 10\n",
    "}\n",
    "runSWap();"
   ]
  },
  {
   "cell_type": "markdown",
   "metadata": {},
   "source": [
    "##### 3.4.2.2 ตัวอย่างการเพิ่มค่าตัวแปร"
   ]
  },
  {
   "cell_type": "code",
   "execution_count": null,
   "metadata": {},
   "outputs": [],
   "source": [
    "void Increment(ref int number) \n",
    "{\n",
    "  number++;\n",
    "}\n",
    "\n",
    "int count = 1;\n",
    "Increment(ref count);\n",
    "Console.WriteLine(count); // Output: 2"
   ]
  },
  {
   "cell_type": "markdown",
   "metadata": {},
   "source": [
    "##### 3.4.2.3 ตัวอย่างการส่งคืนค่าผ่าน ref parameter"
   ]
  },
  {
   "cell_type": "code",
   "execution_count": null,
   "metadata": {},
   "outputs": [],
   "source": [
    "bool TryParse(string input, ref int result) \n",
    "{\n",
    "  try \n",
    "  {\n",
    "    result = int.Parse(input);\n",
    "    return true;\n",
    "  } \n",
    "  catch \n",
    "  {\n",
    "    return false;\n",
    "  }\n",
    "}\n",
    "\n",
    "\n",
    "int number;\n",
    "if (TryParse(\"123\", ref number)) \n",
    "{\n",
    "  Console.WriteLine(number); // Output: 123\n",
    "}"
   ]
  },
  {
   "cell_type": "markdown",
   "metadata": {},
   "source": [
    "##### 3.4.2.4 ตัวอย่างการส่ง object แบบ reference"
   ]
  },
  {
   "cell_type": "code",
   "execution_count": null,
   "metadata": {},
   "outputs": [],
   "source": [
    "class Person \n",
    "{\n",
    "  public string Name { get; set; }\n",
    "}\n",
    "\n",
    "void UpdateName(ref Person person, string newName) \n",
    "{\n",
    "  person.Name = newName;\n",
    "}\n",
    "\n",
    "Person p = new Person { Name = \"John\" };\n",
    "UpdateName(ref p, \"Jane\");\n",
    "Console.WriteLine(p.Name); "
   ]
  },
  {
   "cell_type": "markdown",
   "metadata": {},
   "source": [
    "__ข้อควรระวัง__\n",
    "- ref parameter ต้องถูก initialize ก่อนที่จะส่งเข้า method\n",
    "- ควรใช้ ref parameter เมื่อต้องการเปลี่ยนแปลงค่าของ argument จริงๆ\n",
    "- การใช้ ref parameter มากเกินไปอาจทำให้โค้ดยากต่อการอ่าน ทำความเข้าใจและการ debug"
   ]
  },
  {
   "cell_type": "markdown",
   "metadata": {},
   "source": [
    "##### 3.4.3 Out parameters"
   ]
  },
  {
   "cell_type": "markdown",
   "metadata": {},
   "source": [
    "ใน C# นั้น out parameter เป็นอีกวิธีหนึ่งในการส่งผ่านตัวแปรแบบ pass-by-reference คล้ายกับ ref แต่มีข้อแตกต่างที่สำคัญบางประการ\n",
    "\n",
    "__ความหมายและการใช้งาน__\n",
    "\n",
    "out keyword บอก compiler ว่า parameter ที่ส่งเข้าไปใน method นั้นมีไว้เพื่อ \"รับค่ากลับออกมา\" จาก method นั้นๆ  โดย method จะต้องกำหนดค่าให้กับ out parameter ก่อนที่จะ return\n",
    "\n",
    "__ข้อแตกต่างระหว่าง out และ ref__\n",
    "\n",
    "_การกำหนดค่าเริ่มต้น_\n",
    "\n",
    "- ref: ตัวแปรที่ส่งแบบ ref จะต้องถูกกำหนดค่าเริ่มต้น ก่อน ส่งเข้า method\n",
    "- out: ตัวแปรที่ส่งแบบ out ไม่จำเป็น ต้องกำหนดค่าเริ่มต้น method จะต้องกำหนดค่าให้กับตัวแปรนี้ ก่อน ที่จะ return\n",
    "\n",
    "_การใช้งาน_\n",
    "\n",
    "- ref: ใช้เมื่อต้องการให้ method แก้ไขค่าของตัวแปรเดิม\n",
    "- out: ใช้เมื่อต้องการให้ method ส่งค่ากลับออกมา มากกว่าหนึ่งค่า"
   ]
  },
  {
   "cell_type": "markdown",
   "metadata": {},
   "source": [
    "__ข้อดีของการใช้ out parameter__\n",
    "\n",
    "- สามารถส่งค่ากลับออกมาจาก method ได้มากกว่าหนึ่งค่า\n",
    "- บังคับให้ method กำหนดค่าให้กับ out parameter ก่อนที่จะ return ช่วยลดข้อผิดพลาด"
   ]
  },
  {
   "cell_type": "markdown",
   "metadata": {},
   "source": [
    "##### 3.4.3.1 ตัวอย่างการใช้ out parameter"
   ]
  },
  {
   "cell_type": "code",
   "execution_count": null,
   "metadata": {},
   "outputs": [],
   "source": [
    "public void Divide(int a, int b, out int result, out int remainder)\n",
    "{\n",
    "    result = a / b;\n",
    "    remainder = a % b;\n",
    "}\n",
    "\n",
    "public void runDivide()\n",
    "{\n",
    "    int num1 = 10;\n",
    "    int num2 = 3;\n",
    "\n",
    "    // ประกาศตัวแปรเพื่อรับค่ากลับจากเมธอด \n",
    "    int quotient, rem; \n",
    "    // ใน C# 7.0 ขึ้นไป  สามารถประกาศตัวแปร out ได้ ภายใน  method call  (ไม่ต้องประกาศในบรรทัดข้างบน) ทำให้โค้ดกระชับขึ้น \n",
    "\n",
    "    Divide(num1, num2, out quotient, out rem);\n",
    "\n",
    "    Console.WriteLine(\"Quotient: \" + quotient); // Output: Quotient: 3\n",
    "    Console.WriteLine(\"Remainder: \" + rem);   // Output: Remainder: 1\n",
    "}\n",
    "\n",
    "runDivide();"
   ]
  },
  {
   "cell_type": "markdown",
   "metadata": {},
   "source": [
    "##### 3.4.3.2 ตัวอย่างการใช้ out parameter (Tryparse)"
   ]
  },
  {
   "cell_type": "code",
   "execution_count": null,
   "metadata": {},
   "outputs": [],
   "source": [
    "bool TryParse(string input, out int result) \n",
    "{\n",
    "  try \n",
    "  {\n",
    "    result = int.Parse(input);\n",
    "    return true;\n",
    "  } \n",
    "  catch \n",
    "  {\n",
    "    result = 0; // ต้องกำหนดค่าให้ result\n",
    "    return false;\n",
    "  }\n",
    "}\n",
    "\n",
    "int number;\n",
    "if (TryParse(\"123\", out number)) \n",
    "{\n",
    "  Console.WriteLine(number); \n",
    "}"
   ]
  },
  {
   "cell_type": "markdown",
   "metadata": {},
   "source": [
    "##### 3.4.3.3 ตัวอย่างการใช้ out parameter เพื่อแบ่ง string"
   ]
  },
  {
   "cell_type": "code",
   "execution_count": null,
   "metadata": {},
   "outputs": [],
   "source": [
    "// input : fullName\n",
    "// output : firstName and lastName\n",
    "void SplitName(string fullName, out string firstName, out string lastName) \n",
    "{\n",
    "  string[] parts = fullName.Split(' ');\n",
    "  firstName = parts[0];\n",
    "  lastName = parts[1];\n",
    "}\n",
    "\n",
    "string name = \"John Doe\";\n",
    "string first, last;\n",
    "SplitName(name, out first, out last);\n",
    "Console.WriteLine($\"First name: {first}, Last name: {last}\");"
   ]
  },
  {
   "cell_type": "markdown",
   "metadata": {},
   "source": [
    "##### 3.4.3.4 ตัวอย่างการใช้ out parameter เพื่อคำนวณพื้นที่และเส้นรอบวง"
   ]
  },
  {
   "cell_type": "code",
   "execution_count": null,
   "metadata": {},
   "outputs": [],
   "source": [
    "// input : radius of circle\n",
    "// output :  area and  circumference\n",
    "\n",
    "void CalculateCircle(double radius, out double area, out double circumference) \n",
    "{\n",
    "  area = Math.PI * radius * radius;\n",
    "  circumference = 2 * Math.PI * radius;\n",
    "}\n",
    "\n",
    "double r = 5;\n",
    "double a, c;\n",
    "CalculateCircle(r, out a, out c);\n",
    "Console.WriteLine($\"Area: {a}, Circumference: {c}\");"
   ]
  },
  {
   "cell_type": "markdown",
   "metadata": {},
   "source": [
    "##### 3.4.3.5 ตัวอย่างการใช้ out parameter ในการคืนค่าหลายค่าจาก method"
   ]
  },
  {
   "cell_type": "code",
   "execution_count": null,
   "metadata": {},
   "outputs": [],
   "source": [
    "void GetMinMax(int[] numbers, out int min, out int max) \n",
    "{\n",
    "  min = numbers.Min();\n",
    "  max = numbers.Max();\n",
    "}\n",
    "\n",
    "int[] arr = { 5, 2, 8, 1, 9 };\n",
    "int minVal, maxVal;\n",
    "GetMinMax(arr, out minVal, out maxVal);\n",
    "Console.WriteLine($\"Min: {minVal}, Max: {maxVal}\");"
   ]
  },
  {
   "cell_type": "markdown",
   "metadata": {},
   "source": [
    "##### 3.4.3.6 ตัวอย่างการใช้ out parameter สำหรับส่งคืนค่าผ่าน out parameter ใน Tuple"
   ]
  },
  {
   "cell_type": "code",
   "execution_count": null,
   "metadata": {},
   "outputs": [],
   "source": [
    "// ตัวอย่างนี้เป็นรูปแบบของ tuple การส่งคืนค่าหลายค่าจากเมธอด การจัดกลุ่มข้อมูลที่เกี่ยวข้องกัน หรือใช้งานกับ LINQ\n",
    "// จะได้เรียนเรื่อง tuple ในหัวข้อแยกต่างหาก\n",
    "(bool success, string message) ProcessData(string data) \n",
    "{\n",
    "  if (data == null) \n",
    "  {\n",
    "    return (false, \"Data is null\"); \n",
    "  } \n",
    "  else \n",
    "  {\n",
    "    // ประมวลผล data ...\n",
    "    return (true, \"Data processed successfully\");\n",
    "  }\n",
    "}\n",
    "\n",
    "var result = ProcessData(\"some data\");\n",
    "Console.WriteLine($\"Success: {result.success}, Message: {result.message}\");"
   ]
  },
  {
   "cell_type": "markdown",
   "metadata": {},
   "source": [
    "__ข้อควรระวัง__\n",
    "\n",
    "ถึงแม้ out parameter จะช่วยให้ method สามารถคืนค่าได้มากกว่าการเรียก method ตามปกติ แต่ก็มีข้อควรระวัง เช่น\n",
    "- out parameter บังคับให้ method ต้องกำหนดค่าให้ก่อน return\n",
    "- ควรใช้ out parameter ก็ต่อเมื่อ method ต้องการส่งคืนค่ามากกว่าหนึ่งค่า หรือเมื่อต้องการบังคับให้ method กำหนดค่าให้กับ argument"
   ]
  },
  {
   "cell_type": "markdown",
   "metadata": {},
   "source": [
    "##### 3.4.4 Params parameters"
   ]
  },
  {
   "cell_type": "markdown",
   "metadata": {},
   "source": [
    "Params parameter ใน C# ช่วยให้เราสามารถส่งอาร์กิวเมนต์จำนวนไม่แน่นอนไปยังเมธอดได้ โดยไม่ต้องระบุจำนวนอาร์กิวเมนต์ที่แน่นอนตอนกำหนดเมธอด"
   ]
  },
  {
   "cell_type": "markdown",
   "metadata": {},
   "source": [
    "__หลักการทำงาน__\n",
    "\n",
    "- Params parameter ต้องเป็นอาร์เรย์ 1 มิติเท่านั้น\n",
    "- ถ้าเมธอดมีพารามิเตอร์จำนวนมาก Params parameter ต้องเป็นพารามิเตอร์สุดท้ายในรายการพารามิเตอร์ของเมธอด\n",
    "- สามารถส่งอาร์กิวเมนต์ไปยัง params parameter ได้ 0 ถึงหลายตัว\n",
    "- ภายในเมธอด params parameter จะถูกมองเป็นอาร์เรย์"
   ]
  },
  {
   "cell_type": "markdown",
   "metadata": {},
   "source": [
    "##### 3.4.4.1 ตัวอย่างการบวกเลขหลายจำนวน"
   ]
  },
  {
   "cell_type": "code",
   "execution_count": null,
   "metadata": {},
   "outputs": [],
   "source": [
    "public int Sum(params int[] numbers) // method Sum รับ parameter numbers แบบ params ซึ่งเป็น array ของ int\n",
    "{\n",
    "  int sum = 0;\n",
    "  foreach (int number in numbers)  // ภายใน method จะวนลูปบวกค่าใน array numbers และ return ผลรวม\n",
    "  {\n",
    "    sum += number;\n",
    "  }\n",
    "  return sum;\n",
    "}\n",
    "\n",
    "public void runSum()\n",
    "{\n",
    "    int result2Vars = Sum(1, 2);  // เราสามารถเรียกใช้ Sum โดยส่ง argument เป็นตัวเลขจำนวนเท่าใดก็ได้\n",
    "    Console.WriteLine(\"Result of sum 2 variables : \" + result2Vars);\n",
    "\n",
    "    int result3Vars = Sum(1, 2, 5);\n",
    "    Console.WriteLine(\"Result of sum 3 variables : \" + result3Vars);\n",
    "\n",
    "    int result0Var = Sum();\n",
    "    Console.WriteLine(\"Result of sum without parameter : \" + result0Var);\n",
    "\n",
    "}\n",
    "\n",
    "runSum();\n"
   ]
  },
  {
   "cell_type": "markdown",
   "metadata": {},
   "source": [
    "##### 3.4.4.2 ตัวอย่างการเชื่อม string"
   ]
  },
  {
   "cell_type": "code",
   "execution_count": null,
   "metadata": {},
   "outputs": [],
   "source": [
    "string Concat(params string[] strings)  // method Concat รับ parameter strings แบบ params ซึ่งเป็น array ของ string\n",
    "{\n",
    "  return string.Join(\", \", strings);  // ใช้ string.Join เพื่อเชื่อม string ใน array strings เข้าด้วยกันโดยคั่นด้วย \", \"\n",
    "}\n",
    "\n",
    "Console.WriteLine(Concat(\"apple\", \"banana\", \"cherry\")); \n",
    "Console.WriteLine(Concat(\"hello\")); \n",
    "Console.WriteLine(Concat()); "
   ]
  },
  {
   "cell_type": "markdown",
   "metadata": {},
   "source": [
    "##### 3.4.4.3 ตัวอย่างการหาค่าเฉลี่ย"
   ]
  },
  {
   "cell_type": "code",
   "execution_count": null,
   "metadata": {},
   "outputs": [],
   "source": [
    "double Average(params double[] numbers)  // method Average รับ parameter numbers แบบ params ซึ่งเป็น array ของ double\n",
    "{\n",
    "  if (numbers.Length == 0) // ถ้าจำนวนที่ส่งมามีค่าเป็นศูนย์ ให้ส่งค่า 0 กลับ (โปรแกรมต้องไม่หารด้วยศูนย์)\n",
    "  {\n",
    "    return 0;\n",
    "  }\n",
    "  double sum = 0;\n",
    "  foreach (double number in numbers) // วนลูปรวมค่าและหารด้วยจำนวนตัวเลขที่ป้อนเข้ามา\n",
    "  {\n",
    "    sum += number;\n",
    "  }\n",
    "  return sum / numbers.Length;\n",
    "}\n",
    "\n",
    "Console.WriteLine(Average(5, 10, 15)); \n",
    "Console.WriteLine(Average(2.5, 7.5)); "
   ]
  },
  {
   "cell_type": "markdown",
   "metadata": {},
   "source": [
    "##### 3.4.4.4 ตัวอย่างการแสดงรายการสินค้า"
   ]
  },
  {
   "cell_type": "code",
   "execution_count": null,
   "metadata": {},
   "outputs": [],
   "source": [
    "void DisplayItems(string title, params string[] items)  // method DisplayItems รับ parameter title แบบธรรมดา 1 ตัว และ items แบบ params\n",
    "{\n",
    "  Console.WriteLine(title);\n",
    "  foreach (string item in items) \n",
    "  {\n",
    "    Console.WriteLine($\"- {item}\");\n",
    "  }\n",
    "}\n",
    "\n",
    "DisplayItems(\"Shopping List:\", \"Milk\", \"Eggs\", \"Bread\"); // เรียกใช้โดยส่ง title เป็นหัวข้อ และ items เป็นรายการสินค้า\n",
    "DisplayItems(\"To Do:\", \"Finish homework\", \"Call mom\");"
   ]
  },
  {
   "cell_type": "markdown",
   "metadata": {},
   "source": [
    "##### 3.4.4.5 ส่ง argument แบบ array"
   ]
  },
  {
   "cell_type": "code",
   "execution_count": null,
   "metadata": {},
   "outputs": [],
   "source": [
    "void PrintNumbers(params int[] numbers) \n",
    "{\n",
    "  foreach (int number in numbers) \n",
    "  {\n",
    "    Console.WriteLine(number);\n",
    "  }\n",
    "}\n",
    "\n",
    "int[] arr = { 1, 2, 3, 4, 5, 6, 7, 8, 9};\n",
    "PrintNumbers(arr); "
   ]
  },
  {
   "cell_type": "markdown",
   "metadata": {},
   "source": [
    "##### 3.4.5 Optional Parameter"
   ]
  },
  {
   "cell_type": "markdown",
   "metadata": {},
   "source": [
    "Optional Parameter ใน C# อนุญาตให้เรากำหนดค่าเริ่มต้นให้กับ parameter ใน method ทำให้ไม่จำเป็นต้องส่ง argument สำหรับ parameter นั้นๆ ทุกครั้งที่เรียกใช้ method\n",
    "\n",
    "__หลักการสำคัญ__\n",
    "\n",
    "- Optional Parameter ต้องมีค่า default กำหนดไว้\n",
    "- Optional Parameter ต้องอยู่หลัง parameter ที่จำเป็นทั้งหมด\n",
    "- เมื่อเรียกใช้ method สามารถละเว้น Optional Parameter ได้\n",
    "- ถ้าไม่ส่ง argument ให้ Optional Parameter จะใช้ค่า default ที่กำหนดไว้"
   ]
  },
  {
   "cell_type": "markdown",
   "metadata": {},
   "source": [
    "##### 3.4.5.1 ตัวอย่างการทักทาย"
   ]
  },
  {
   "cell_type": "code",
   "execution_count": null,
   "metadata": {},
   "outputs": [],
   "source": [
    "// Method Greet มี parameter greeting เป็น Optional Parameter ที่มีค่า default เป็น \"Hello\" \n",
    "// ดังนั้นเราสามารถเรียกใช้ method โดยส่ง argument แค่ name ตัวเดียวได้\n",
    "\n",
    "void Greet(string name, string greeting = \"Hello\") {\n",
    "  Console.WriteLine($\"{greeting}, {name}!\");\n",
    "}\n",
    "\n",
    "Greet(\"John\"); //  ใช้ Optional Parameter เนื่องจากเราไม่ได้ป้อน parameter ตัวที่สองให้ method\n",
    "Greet(\"Jane\", \"Hi\"); //  ไม่ได้ใช้ Optional Parameter เนื่องจากเราป้อน parameter ตัวที่สองให้ method"
   ]
  },
  {
   "cell_type": "markdown",
   "metadata": {},
   "source": [
    "##### 3.4.5.2 การคำนวณกำลัง"
   ]
  },
  {
   "cell_type": "code",
   "execution_count": null,
   "metadata": {},
   "outputs": [],
   "source": [
    "double Power(double baseNumber, int exponent = 2) \n",
    "{\n",
    "  return Math.Pow(baseNumber, exponent);\n",
    "}\n",
    "\n",
    "Console.WriteLine(Power(5));      //  ใช้  optional parameter เป็นการยกกำลัง 2\n",
    "Console.WriteLine(Power(2, 3));   //  ส่งค่ายกกำลังให้เมธอด Power "
   ]
  },
  {
   "cell_type": "markdown",
   "metadata": {},
   "source": [
    "##### 3.4.5.3 การสร้าง user name"
   ]
  },
  {
   "cell_type": "code",
   "execution_count": null,
   "metadata": {},
   "outputs": [],
   "source": [
    "string CreateUsername(string firstName, string lastName, int number = 1) \n",
    "{\n",
    "  return $\"{firstName}{lastName}{number}\";\n",
    "}\n",
    "\n",
    "Console.WriteLine(CreateUsername(\"John\", \"Doe\")); \n",
    "Console.WriteLine(CreateUsername(\"Jane\", \"Doe\", 2)); "
   ]
  },
  {
   "cell_type": "markdown",
   "metadata": {},
   "source": [
    "##### 3.4.5.4 การแสดงข้อความ"
   ]
  },
  {
   "cell_type": "code",
   "execution_count": null,
   "metadata": {},
   "outputs": [],
   "source": [
    "// Method DisplayMessage แสดงข้อความ โดยมี showTime เป็น Optional Parameter \n",
    "// ที่มีค่า default เป็น true  กำหนดว่าจะแสดงเวลาหรือไม่\n",
    "void DisplayMessage(string message, bool showTime = true) \n",
    "{\n",
    "  Console.Write(message);\n",
    "  if (showTime) \n",
    "  {\n",
    "    Console.WriteLine($\" ({DateTime.Now})\");\n",
    "  } \n",
    "  else \n",
    "  {\n",
    "    Console.WriteLine();\n",
    "  }\n",
    "}\n",
    "\n",
    "DisplayMessage(\"Error!\"); // Output: Error! (พร้อมเวลา)\n",
    "DisplayMessage(\"Warning\", false); // Output: Warning"
   ]
  },
  {
   "cell_type": "markdown",
   "metadata": {},
   "source": [
    "##### 3.4.5.5 การคำนวณส่วนลด"
   ]
  },
  {
   "cell_type": "code",
   "execution_count": null,
   "metadata": {},
   "outputs": [],
   "source": [
    "double CalculateDiscount(double price, double discountPercent = 10) \n",
    "{\n",
    "  return price * (1 - discountPercent / 100);\n",
    "}\n",
    "\n",
    "Console.WriteLine($\"Ordinary customer pay: \" + CalculateDiscount(100));     // ลูกค้าทั่วไป ลด 10% (ใช้ค่ามาตรฐาน)\n",
    "Console.WriteLine($\"VIP customer pay: \" +CalculateDiscount(100, 20));       // ลูกค้าพิเศษ ลด 20% (ต้องระบุ % ส่วนลด)\n",
    "Console.WriteLine($\"VVIP customer pay: \" +CalculateDiscount(100, 50));      // ลูกค้าพิเศษมาก ลด 50% (ต้องระบุ % ส่วนลด)"
   ]
  },
  {
   "cell_type": "markdown",
   "metadata": {},
   "source": [
    "__ข้อควรระวัง__\n",
    "\n",
    "- ควรใช้ Optional Parameter เมื่อต้องการให้ method มีความยืดหยุ่นในการใช้งาน\n",
    "- การใช้ Optional Parameter มากเกินไปอาจทำให้โค้ดยากต่อการอ่าน"
   ]
  },
  {
   "cell_type": "markdown",
   "metadata": {},
   "source": [
    "##### 3.4.6 Named Parameter"
   ]
  },
  {
   "cell_type": "markdown",
   "metadata": {},
   "source": [
    "โดยปกติ การเรียกใช้ method เราต้องรู้ชนิดและลำดับการส่ง paramater  แต่ Named Parameter ใน C# ช่วยให้เราสามารถระบุชื่อ parameter ตอนเรียกใช้ method ได้ ซึงมีข้อดีดังตัวอย่างต่อไปนี้\n",
    "\n",
    "- ทำให้ไม่จำเป็นต้องเรียงลำดับ argument ให้ตรงกับ parameter ใน method definition\n",
    "- เพิ่มความชัดเจน ทำให้โค้ดอ่านง่ายขึ้น เพราะเห็นชัดเจนว่า argument แต่ละตัวส่งค่าให้กับ parameter ตัวไหน\n",
    "- มีความยืดหยุ่นสูง ไม่ต้องจำลำดับ parameter ใน method\n",
    "- ใช้ร่วมกับ optional parameter ได้ ส่งค่าเฉพาะ argument ที่ต้องการ โดยไม่ต้องส่ง argument ที่มีค่า default"
   ]
  },
  {
   "cell_type": "markdown",
   "metadata": {},
   "source": [
    "__หลักการสำคัญ__\n",
    "\n",
    "- ใช้ชื่อ parameter ตามด้วย colon (:) แล้วตามด้วยค่าของ argument\n",
    "- สามารถเรียงลำดับ argument แตกต่างจาก parameter ใน method definition ได้\n",
    "- เพิ่มความชัดเจนและอ่านง่ายขึ้น โดยเฉพาะเมื่อ method มี parameter จำนวนมาก\n",
    "- สามารถใช้ร่วมกับ positional argument ได้ แต่ positional argument ต้องอยู่ก่อน named argument และเรียงตามลำดับ"
   ]
  },
  {
   "cell_type": "markdown",
   "metadata": {},
   "source": [
    "##### 3.4.6.1 ตัวอย่างการคำนวณพื้นที่สี่เหลี่ยม"
   ]
  },
  {
   "cell_type": "code",
   "execution_count": null,
   "metadata": {},
   "outputs": [
    {
     "name": "stdout",
     "output_type": "stream",
     "text": [
      "Area: 50\n",
      "Area: 50\n"
     ]
    }
   ],
   "source": [
    "// method CalculateRectangleArea รับ parameter 2 ตัวคือ width และ height ตามลำดับ\n",
    "\n",
    "void CalculateRectangleArea(double width, double height) \n",
    "{\n",
    "  double area = width * height;\n",
    "  Console.WriteLine($\"Area: {area}\");\n",
    "}\n",
    "\n",
    "// ตอนเรียกใช้ method เราใช้ named parameter ทำให้ไม่ต้องเรียงลำดับ argument\n",
    "CalculateRectangleArea(width: 5, height: 10); // ลำดับไม่สำคัญ จะเรียงลำดับอย่างไรก็ได้ \n",
    "CalculateRectangleArea(height: 10, width: 5); "
   ]
  },
  {
   "cell_type": "markdown",
   "metadata": {},
   "source": [
    "##### 3.4.6.2 ตัวอย่างการแสดงข้อมูลสินค้า"
   ]
  },
  {
   "cell_type": "code",
   "execution_count": null,
   "metadata": {},
   "outputs": [
    {
     "name": "stdout",
     "output_type": "stream",
     "text": [
      "Product: Apple\n",
      "Price: 10.5\n",
      "Quantity: 5\n"
     ]
    }
   ],
   "source": [
    "// method DisplayProduct รับ parameter 3 ตัว เรียงลำดับตามใน method signature\n",
    "void DisplayProduct(string name, double price, int quantity) \n",
    "{\n",
    "  Console.WriteLine($\"Product: {name}\");\n",
    "  Console.WriteLine($\"Price: {price}\");\n",
    "  Console.WriteLine($\"Quantity: {quantity}\");\n",
    "}\n",
    "\n",
    "DisplayProduct(name: \"Apple\", quantity: 5, price: 10.5);  // ไม่ต้องเรียงลำดับตรงกับที่ประกาศใน method"
   ]
  },
  {
   "cell_type": "markdown",
   "metadata": {},
   "source": [
    "##### 3.4.6.3 ตัวอย่างการใช้ร่วมกับ optional parameter"
   ]
  },
  {
   "cell_type": "code",
   "execution_count": null,
   "metadata": {},
   "outputs": [
    {
     "name": "stdout",
     "output_type": "stream",
     "text": [
      "Info: Hello\n",
      "Warning: Warning!\n"
     ]
    }
   ],
   "source": [
    "// method PrintMessage มี optional parameter prefix ที่มีค่า default เป็น \"Info:\"\n",
    "void PrintMessage(string message, string prefix = \"Info:\") \n",
    "{\n",
    "  Console.WriteLine($\"{prefix} {message}\");\n",
    "}\n",
    "\n",
    "PrintMessage(message: \"Hello\");                         // ส่งแค่ argument message เพียงตัวเดียว ทำให้มีการใช้ optional parameter\n",
    "PrintMessage( prefix: \"Warning:\", message: \"Warning!\" );  // ส่งแค่ argument ครบ แต่ไม่เรียงตามลำดับที่ประกาศใน method"
   ]
  },
  {
   "cell_type": "markdown",
   "metadata": {},
   "source": [
    "##### 3.4.6.4 ตัวอย่างการส่งค่าบาง parameter"
   ]
  },
  {
   "cell_type": "code",
   "execution_count": null,
   "metadata": {},
   "outputs": [
    {
     "name": "stdout",
     "output_type": "stream",
     "text": [
      "First Name:\n",
      "Last Name: Doe\n",
      "Email: john.doe@example.com\r\n"
     ]
    }
   ],
   "source": [
    "class Person\n",
    "{\n",
    "    string _firstName = string.Empty; // private fields\n",
    "    string _lastName = string.Empty;\n",
    "    string _email = string.Empty;\n",
    "    public void UpdateProfile(string firstName = null, string lastName = null, string email = null) \n",
    "    {\n",
    "        _firstName = firstName;\n",
    "        _lastName = lastName;\n",
    "        _email = email;\n",
    "    }\n",
    "    public void PrintProfile()\n",
    "    {\n",
    "      Console.WriteLine($\"First Name:{_firstName}\\nLast Name: {_lastName}\\nEmail: {_email}\"); \n",
    "    }\n",
    "}\n",
    "\n",
    "Person p = new();\n",
    "p.UpdateProfile(lastName: \"Doe\", email: \"john.doe@example.com\"); // อัพเดตแค่ lastName และ email\n",
    "p.PrintProfile();"
   ]
  },
  {
   "cell_type": "markdown",
   "metadata": {},
   "source": [
    "##### 3.4.6.5 ตัวอย่างการใช้ร่วมกับ positional argument"
   ]
  },
  {
   "cell_type": "code",
   "execution_count": null,
   "metadata": {},
   "outputs": [
    {
     "name": "stdout",
     "output_type": "stream",
     "text": [
      "ID: 123\n",
      "Name: John Doe\n",
      "City: Bangkok\n"
     ]
    }
   ],
   "source": [
    "// method ShowDetails รับ parameter 3 ตัว\n",
    "void ShowDetails(int id, string name, string city) \n",
    "{\n",
    "  Console.WriteLine($\"ID: {id}\");\n",
    "  Console.WriteLine($\"Name: {name}\");\n",
    "  Console.WriteLine($\"City: {city}\");\n",
    "}\n",
    "\n",
    "// เรียกเมธอดโดยใช้ positional argument สำหรับ id และ named parameter สำหรับ name และ city\n",
    "ShowDetails(123, city: \"Bangkok\", name: \"John Doe\"); "
   ]
  }
 ],
 "metadata": {
  "kernelspec": {
   "display_name": ".NET (C#)",
   "language": "C#",
   "name": ".net-csharp"
  },
  "polyglot_notebook": {
   "kernelInfo": {
    "defaultKernelName": "csharp",
    "items": [
     {
      "aliases": [],
      "languageName": "csharp",
      "name": "csharp"
     }
    ]
   }
  }
 },
 "nbformat": 4,
 "nbformat_minor": 2
}
